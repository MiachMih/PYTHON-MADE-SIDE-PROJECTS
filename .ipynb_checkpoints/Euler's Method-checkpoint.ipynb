{
 "cells": [
  {
   "cell_type": "code",
   "execution_count": null,
   "metadata": {},
   "outputs": [],
   "source": [
    "import matplotlib.pyplot as plt\n",
    "\n",
    "SUB = str.maketrans(\"0123456789\", \"₀₁₂₃₄₅₆₇₈₉\")\n",
    "\n",
    "# factorial function\n",
    "def fact(n, b=1):\n",
    "    try:\n",
    "        if n < 0:\n",
    "            raise ValueError\n",
    "        if type(n) != int:\n",
    "            raise TypeError\n",
    "            \n",
    "        a = b       \n",
    "        if n > 1:\n",
    "            a = a*n\n",
    "            n -= 1\n",
    "            return fact(n, a)\n",
    "    \n",
    "    except TypeError:\n",
    "        print('fact Error: n must be a number of type int')\n",
    "        return 1\n",
    "    except ValueError:\n",
    "        print('fact Error: n must be positive or zero.')\n",
    "        return 1\n",
    "        \n",
    "    return a\n",
    "\n",
    "# calculating natural number using infinite series\n",
    "# a - order of infinite sum\n",
    "# b - decimal place rounding\n",
    "# accepted value: e = 2.71828182845904523536028747135266249775724709369995\n",
    "def naturalNum(a = 13, b = 9):\n",
    "    E = 0\n",
    "    for x in range(a):\n",
    "        try:\n",
    "            E += 1/fact(x)\n",
    "        except RecursionError:\n",
    "            print('fact Error: the value for n was too great.')\n",
    "    return round(E, b)\n",
    "\n",
    "# natural number e\n",
    "e = naturalNum()\n",
    "\n",
    "# input your function here \n",
    "A =  lambda x, y:   x + 2*y\n",
    "####################\n",
    "\n",
    "# Euler's Method\n",
    "# x - x point\n",
    "# y - y point\n",
    "# h - step size\n",
    "# n - number of points to calculate\n",
    "def method(x,y, h=0.1, n=5):\n",
    "    try:\n",
    "        if not( isinstance(x,(float, int)) and isinstance(y,(float, int)) and isinstance(h,(float, int)) and isinstance(n,(float, int)) ):\n",
    "            raise TypeError\n",
    "        \n",
    "        try:\n",
    "            # labeling the graph\n",
    "            plt.title('Euler\\'s Method')\n",
    "            plt.xlabel('x - axis')\n",
    "            plt.ylabel('f(x) - axis')\n",
    "            for _ in range(n+1):\n",
    "                plt.scatter(x, y, color = 'blue')\n",
    "                out_x = 'x'+str(_) + ' = '\n",
    "                out_y =  '\\ny' + str(_) + ' = '\n",
    "                print(out_x.translate(SUB) + str(x), out_y.translate(SUB) + str(y))\n",
    "                print('-------------------------------------')\n",
    "                y = y + h*A(x,y)\n",
    "                x = x + h\n",
    "            plt.show()\n",
    "        except OverflowError:\n",
    "                print('method Error: values are too large to handle')\n",
    "                return\n",
    "        \n",
    "    except TypeError:\n",
    "        print('method Error: accepts values of type float or int only')\n",
    "\n",
    "# used for improved method\n",
    "# Do not change\n",
    "B = lambda x,y,h:   A(x+h, y + h*A(x,y))\n",
    "######################\n",
    "\n",
    "# Improved Euler's Method (Heun)\n",
    "# x - x point\n",
    "# y - y point\n",
    "# h - step size\n",
    "# n - number of points to calculate\n",
    "def methodH(x,y, h=0.1, n=5):\n",
    "    try:\n",
    "        if not( isinstance(x,(float, int)) and isinstance(y,(float, int)) and isinstance(h,(float, int)) and isinstance(n,(float, int)) ):\n",
    "            raise TypeError\n",
    "\n",
    "        try:\n",
    "            # labeling the graph\n",
    "            plt.title('Improved Euler\\'s Method')\n",
    "            plt.xlabel('x - axis')\n",
    "            plt.ylabel('f(x) - axis')\n",
    "            for _ in range(n+1):\n",
    "                plt.scatter(x, y, color = 'blue')\n",
    "                out_x = 'x'+str(_) + ' = '\n",
    "                out_y =  '\\ny' + str(_) + ' = '\n",
    "                print(out_x.translate(SUB) + str(x), out_y.translate(SUB) + str(y))\n",
    "                print('-------------------------------------')\n",
    "                y = y + h*(A(x,y)+B(x,y,h))/2\n",
    "                x = x + h\n",
    "            plt.show()\n",
    "        except OverflowError:\n",
    "                print('methodS Error: values are too large to handle')\n",
    "                return\n",
    "    \n",
    "    except TypeError:\n",
    "        print('methodS Error: accepts values of type float or int only')\n"
   ]
  },
  {
   "cell_type": "code",
   "execution_count": 89,
   "metadata": {},
   "outputs": [
    {
     "name": "stdout",
     "output_type": "stream",
     "text": [
      "x₀ = 0 \n",
      "y₀ = 0\n",
      "-------------------------------------\n",
      "x₁ = 0.25 \n",
      "y₁ = 0.0\n",
      "-------------------------------------\n",
      "x₂ = 0.5 \n",
      "y₂ = 0.0625\n",
      "-------------------------------------\n",
      "x₃ = 0.75 \n",
      "y₃ = 0.21875\n",
      "-------------------------------------\n",
      "x₄ = 1.0 \n",
      "y₄ = 0.515625\n",
      "-------------------------------------\n",
      "x₅ = 1.25 \n",
      "y₅ = 1.0234375\n",
      "-------------------------------------\n"
     ]
    },
    {
     "data": {
      "image/png": "[encoded data removed]",
      "text/plain": [
       "<Figure size 432x288 with 1 Axes>"
      ]
     },
     "metadata": {
      "needs_background": "light"
     },
     "output_type": "display_data"
    },
    {
     "name": "stdout",
     "output_type": "stream",
     "text": [
      "None\n"
     ]
    }
   ],
   "source": [
    "print(method(0,0, 0.25))"
   ]
  },
  {
   "cell_type": "code",
   "execution_count": 90,
   "metadata": {},
   "outputs": [
    {
     "name": "stdout",
     "output_type": "stream",
     "text": [
      "x₀ = 0 \n",
      "y₀ = 0\n",
      "-------------------------------------\n",
      "x₁ = 0.25 \n",
      "y₁ = 0.03125\n",
      "-------------------------------------\n",
      "x₂ = 0.5 \n",
      "y₂ = 0.16015625\n",
      "-------------------------------------\n",
      "x₃ = 0.75 \n",
      "y₃ = 0.44775390625\n",
      "-------------------------------------\n",
      "x₄ = 1.0 \n",
      "y₄ = 0.99322509765625\n",
      "-------------------------------------\n",
      "x₅ = 1.25 \n",
      "y₅ = 1.9577407836914062\n",
      "-------------------------------------\n"
     ]
    },
    {
     "data": {
      "image/png": "[encoded data removed]",
      "text/plain": [
       "<Figure size 432x288 with 1 Axes>"
      ]
     },
     "metadata": {
      "needs_background": "light"
     },
     "output_type": "display_data"
    },
    {
     "name": "stdout",
     "output_type": "stream",
     "text": [
      "None\n"
     ]
    }
   ],
   "source": [
    "print(methodH(0, 0, 0.25))"
   ]
  },
  {
   "cell_type": "code",
   "execution_count": 3,
   "metadata": {},
   "outputs": [
    {
     "name": "stdout",
     "output_type": "stream",
     "text": [
      "2.718281828\n"
     ]
    }
   ],
   "source": [
    "print(e)"
   ]
  },
  {
   "cell_type": "code",
   "execution_count": null,
   "metadata": {},
   "outputs": [],
   "source": []
  }
 ],
 "metadata": {
  "kernelspec": {
   "display_name": "Python 3",
   "language": "python",
   "name": "python3"
  },
  "language_info": {
   "codemirror_mode": {
    "name": "ipython",
    "version": 3
   },
   "file_extension": ".py",
   "mimetype": "text/x-python",
   "name": "python",
   "nbconvert_exporter": "python",
   "pygments_lexer": "ipython3",
   "version": "3.7.3"
  }
 },
 "nbformat": 4,
 "nbformat_minor": 2
}
