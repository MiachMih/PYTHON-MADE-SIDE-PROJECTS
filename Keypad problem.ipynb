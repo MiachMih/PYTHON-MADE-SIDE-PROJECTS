{
 "cells": [
  {
   "cell_type": "code",
   "execution_count": null,
   "metadata": {},
   "outputs": [],
   "source": [
    "# Description\n",
    "# You are given a 3x3 keypad and a sequence of numbers that you need to punch in\n",
    "# The keypad as well as sequence numbers are scrambled with every new sequence to punch in\n",
    "# When you start on the keypad the first number will take 0 seconds to push\n",
    "# Pushing the same button will cost 0 seconds\n",
    "# However moving to any adjesent number will cost 1 second\n",
    "# You need to figure out how many seconds it will take to push any given sequence of numbers on any given 3x3 keypad\n"
   ]
  },
  {
   "cell_type": "code",
   "execution_count": 66,
   "metadata": {},
   "outputs": [],
   "source": [
    "keypad = [[9,7,3],[5,2,4],[6,1,8]]\n",
    "sequence = [6,7,4,6,1,3,2]\n",
    "seconds = 0"
   ]
  },
  {
   "cell_type": "code",
   "execution_count": 59,
   "metadata": {},
   "outputs": [],
   "source": [
    "def find(number,arr):\n",
    "    for i in range(3):\n",
    "        for j in range(3):\n",
    "            if arr[i][j] == number:\n",
    "                return [i,j]\n",
    "    return \"no such number exists on the keypad\""
   ]
  },
  {
   "cell_type": "code",
   "execution_count": 60,
   "metadata": {},
   "outputs": [],
   "source": [
    "a = []\n",
    "for i in sequence:\n",
    "    a.append(find(i,keypad))"
   ]
  },
  {
   "cell_type": "code",
   "execution_count": 61,
   "metadata": {},
   "outputs": [],
   "source": [
    "for i in range(len(a)-1):\n",
    "    x2 = a[i+1][0]\n",
    "    x1 = a[i][0]\n",
    "    y2 = a[i+1][1]\n",
    "    y1 = a[i][1]\n",
    "    if abs(x2-x1) >= abs(y2-y1):\n",
    "        seconds += abs(x2-x1)\n",
    "    else:\n",
    "        seconds += abs(y2-y1)"
   ]
  },
  {
   "cell_type": "code",
   "execution_count": 65,
   "metadata": {},
   "outputs": [
    {
     "data": {
      "text/plain": [
       "9"
      ]
     },
     "execution_count": 65,
     "metadata": {},
     "output_type": "execute_result"
    }
   ],
   "source": [
    "seconds"
   ]
  }
 ],
 "metadata": {
  "kernelspec": {
   "display_name": "Python 3",
   "language": "python",
   "name": "python3"
  },
  "language_info": {
   "codemirror_mode": {
    "name": "ipython",
    "version": 3
   },
   "file_extension": ".py",
   "mimetype": "text/x-python",
   "name": "python",
   "nbconvert_exporter": "python",
   "pygments_lexer": "ipython3",
   "version": "3.6.10"
  }
 },
 "nbformat": 4,
 "nbformat_minor": 2
}
